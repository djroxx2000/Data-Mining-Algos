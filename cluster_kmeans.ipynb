{
 "cells": [
  {
   "cell_type": "code",
   "execution_count": 1,
   "metadata": {},
   "outputs": [],
   "source": [
    "'''\n",
    "Author: Dhananjay Shettigar (Roll No. 8702)\n",
    "Program written for TEIT DMBI practical on clustering algorithm (Simple K-means clustering)\n",
    "'''\n",
    "\n",
    "import pandas as pd\n",
    "import numpy as np\n",
    "import math\n",
    "\n",
    "import seaborn as sns\n",
    "\n",
    "from sklearn.preprocessing import LabelEncoder\n",
    "from sklearn.model_selection import train_test_split\n",
    "from sklearn.metrics import classification_report"
   ]
  },
  {
   "cell_type": "code",
   "execution_count": 2,
   "metadata": {},
   "outputs": [
    {
     "output_type": "execute_result",
     "data": {
      "text/plain": [
       "     sepal_length  sepal_width  petal_length  petal_width    species\n",
       "0             5.1          3.5           1.4          0.2     setosa\n",
       "1             4.9          3.0           1.4          0.2     setosa\n",
       "2             4.7          3.2           1.3          0.2     setosa\n",
       "3             4.6          3.1           1.5          0.2     setosa\n",
       "4             5.0          3.6           1.4          0.2     setosa\n",
       "..            ...          ...           ...          ...        ...\n",
       "145           6.7          3.0           5.2          2.3  virginica\n",
       "146           6.3          2.5           5.0          1.9  virginica\n",
       "147           6.5          3.0           5.2          2.0  virginica\n",
       "148           6.2          3.4           5.4          2.3  virginica\n",
       "149           5.9          3.0           5.1          1.8  virginica\n",
       "\n",
       "[150 rows x 5 columns]"
      ],
      "text/html": "<div>\n<style scoped>\n    .dataframe tbody tr th:only-of-type {\n        vertical-align: middle;\n    }\n\n    .dataframe tbody tr th {\n        vertical-align: top;\n    }\n\n    .dataframe thead th {\n        text-align: right;\n    }\n</style>\n<table border=\"1\" class=\"dataframe\">\n  <thead>\n    <tr style=\"text-align: right;\">\n      <th></th>\n      <th>sepal_length</th>\n      <th>sepal_width</th>\n      <th>petal_length</th>\n      <th>petal_width</th>\n      <th>species</th>\n    </tr>\n  </thead>\n  <tbody>\n    <tr>\n      <th>0</th>\n      <td>5.1</td>\n      <td>3.5</td>\n      <td>1.4</td>\n      <td>0.2</td>\n      <td>setosa</td>\n    </tr>\n    <tr>\n      <th>1</th>\n      <td>4.9</td>\n      <td>3.0</td>\n      <td>1.4</td>\n      <td>0.2</td>\n      <td>setosa</td>\n    </tr>\n    <tr>\n      <th>2</th>\n      <td>4.7</td>\n      <td>3.2</td>\n      <td>1.3</td>\n      <td>0.2</td>\n      <td>setosa</td>\n    </tr>\n    <tr>\n      <th>3</th>\n      <td>4.6</td>\n      <td>3.1</td>\n      <td>1.5</td>\n      <td>0.2</td>\n      <td>setosa</td>\n    </tr>\n    <tr>\n      <th>4</th>\n      <td>5.0</td>\n      <td>3.6</td>\n      <td>1.4</td>\n      <td>0.2</td>\n      <td>setosa</td>\n    </tr>\n    <tr>\n      <th>...</th>\n      <td>...</td>\n      <td>...</td>\n      <td>...</td>\n      <td>...</td>\n      <td>...</td>\n    </tr>\n    <tr>\n      <th>145</th>\n      <td>6.7</td>\n      <td>3.0</td>\n      <td>5.2</td>\n      <td>2.3</td>\n      <td>virginica</td>\n    </tr>\n    <tr>\n      <th>146</th>\n      <td>6.3</td>\n      <td>2.5</td>\n      <td>5.0</td>\n      <td>1.9</td>\n      <td>virginica</td>\n    </tr>\n    <tr>\n      <th>147</th>\n      <td>6.5</td>\n      <td>3.0</td>\n      <td>5.2</td>\n      <td>2.0</td>\n      <td>virginica</td>\n    </tr>\n    <tr>\n      <th>148</th>\n      <td>6.2</td>\n      <td>3.4</td>\n      <td>5.4</td>\n      <td>2.3</td>\n      <td>virginica</td>\n    </tr>\n    <tr>\n      <th>149</th>\n      <td>5.9</td>\n      <td>3.0</td>\n      <td>5.1</td>\n      <td>1.8</td>\n      <td>virginica</td>\n    </tr>\n  </tbody>\n</table>\n<p>150 rows × 5 columns</p>\n</div>"
     },
     "metadata": {},
     "execution_count": 2
    }
   ],
   "source": [
    "# Seaborn inbuilt dataset\n",
    "df = sns.load_dataset('iris')\n",
    "num_clusters = 3\n",
    "df\n"
   ]
  },
  {
   "cell_type": "code",
   "execution_count": 3,
   "metadata": {},
   "outputs": [
    {
     "output_type": "execute_result",
     "data": {
      "text/plain": [
       "     sepal_length  sepal_width  petal_length  petal_width\n",
       "0             5.1          3.5           1.4          0.2\n",
       "1             4.9          3.0           1.4          0.2\n",
       "2             4.7          3.2           1.3          0.2\n",
       "3             4.6          3.1           1.5          0.2\n",
       "4             5.0          3.6           1.4          0.2\n",
       "..            ...          ...           ...          ...\n",
       "145           6.7          3.0           5.2          2.3\n",
       "146           6.3          2.5           5.0          1.9\n",
       "147           6.5          3.0           5.2          2.0\n",
       "148           6.2          3.4           5.4          2.3\n",
       "149           5.9          3.0           5.1          1.8\n",
       "\n",
       "[150 rows x 4 columns]"
      ],
      "text/html": "<div>\n<style scoped>\n    .dataframe tbody tr th:only-of-type {\n        vertical-align: middle;\n    }\n\n    .dataframe tbody tr th {\n        vertical-align: top;\n    }\n\n    .dataframe thead th {\n        text-align: right;\n    }\n</style>\n<table border=\"1\" class=\"dataframe\">\n  <thead>\n    <tr style=\"text-align: right;\">\n      <th></th>\n      <th>sepal_length</th>\n      <th>sepal_width</th>\n      <th>petal_length</th>\n      <th>petal_width</th>\n    </tr>\n  </thead>\n  <tbody>\n    <tr>\n      <th>0</th>\n      <td>5.1</td>\n      <td>3.5</td>\n      <td>1.4</td>\n      <td>0.2</td>\n    </tr>\n    <tr>\n      <th>1</th>\n      <td>4.9</td>\n      <td>3.0</td>\n      <td>1.4</td>\n      <td>0.2</td>\n    </tr>\n    <tr>\n      <th>2</th>\n      <td>4.7</td>\n      <td>3.2</td>\n      <td>1.3</td>\n      <td>0.2</td>\n    </tr>\n    <tr>\n      <th>3</th>\n      <td>4.6</td>\n      <td>3.1</td>\n      <td>1.5</td>\n      <td>0.2</td>\n    </tr>\n    <tr>\n      <th>4</th>\n      <td>5.0</td>\n      <td>3.6</td>\n      <td>1.4</td>\n      <td>0.2</td>\n    </tr>\n    <tr>\n      <th>...</th>\n      <td>...</td>\n      <td>...</td>\n      <td>...</td>\n      <td>...</td>\n    </tr>\n    <tr>\n      <th>145</th>\n      <td>6.7</td>\n      <td>3.0</td>\n      <td>5.2</td>\n      <td>2.3</td>\n    </tr>\n    <tr>\n      <th>146</th>\n      <td>6.3</td>\n      <td>2.5</td>\n      <td>5.0</td>\n      <td>1.9</td>\n    </tr>\n    <tr>\n      <th>147</th>\n      <td>6.5</td>\n      <td>3.0</td>\n      <td>5.2</td>\n      <td>2.0</td>\n    </tr>\n    <tr>\n      <th>148</th>\n      <td>6.2</td>\n      <td>3.4</td>\n      <td>5.4</td>\n      <td>2.3</td>\n    </tr>\n    <tr>\n      <th>149</th>\n      <td>5.9</td>\n      <td>3.0</td>\n      <td>5.1</td>\n      <td>1.8</td>\n    </tr>\n  </tbody>\n</table>\n<p>150 rows × 4 columns</p>\n</div>"
     },
     "metadata": {},
     "execution_count": 3
    }
   ],
   "source": [
    "# Target column separation\n",
    "target_col = 'species'\n",
    "target = df[target_col]\n",
    "columns = [col for col in df.columns]\n",
    "columns.pop()\n",
    "data = df.drop('species', axis = 1)\n",
    "data"
   ]
  },
  {
   "cell_type": "code",
   "execution_count": 11,
   "metadata": {},
   "outputs": [],
   "source": [
    "def euclideanDist(x, y, columns):\n",
    "    dist = 0\n",
    "    for col in columns:\n",
    "        dist += (x[col] - y[col]) * (x[col] - y[col])\n",
    "    return math.sqrt(dist)\n",
    "\n",
    "def randomInit(data, num_clusters):\n",
    "    initial_centroids = data.sample(n = num_clusters)\n",
    "    clusters = [[] for _ in range(num_clusters)]\n",
    "    for idx in range(num_clusters):\n",
    "        clusters[idx].append(initial_centroids.iloc[idx].to_dict())\n",
    "    return clusters\n",
    "\n",
    "def getNewCentroids(cluster_arr, columns):\n",
    "    num_clusters = len(cluster_arr)\n",
    "    centroids = [{} for _ in range(num_clusters)]\n",
    "    for idx, cluster in enumerate(cluster_arr):\n",
    "        cluster_as_df = pd.DataFrame(cluster)\n",
    "        for col in columns:\n",
    "            centroids[idx] = cluster_as_df.mean(axis=0)\n",
    "    return centroids\n",
    "\n",
    "def areSameCentroids(cluster_arr, centroids, columns, min_dist):\n",
    "    are_same_centroids = True\n",
    "    for idx in range(len(centroids)):\n",
    "        dist = euclideanDist(cluster_arr[idx][0], centroids[idx], columns)\n",
    "        if dist > min_dist:\n",
    "            are_same_centroids = False\n",
    "            break\n",
    "    return are_same_centroids\n",
    "\n",
    "def updateCentroids(cluster_arr, centroids, columns):\n",
    "    cluster_arr = [[{}] for _ in range(len(centroids))]\n",
    "    for idx in range(len(centroids)):\n",
    "        for col in columns:\n",
    "            cluster_arr[idx][0][col] = centroids[idx][col]\n",
    "    return cluster_arr\n",
    "\n",
    "def fillClusters(cluster_arr, dataset, columns):\n",
    "    num_clusters = len(cluster_arr)\n",
    "    distances = [0 for _ in range(num_clusters)]\n",
    "    temp = 5\n",
    "    for row_idx in dataset.index:\n",
    "        for cluster_idx, cluster in enumerate(cluster_arr):\n",
    "            distances[cluster_idx] = euclideanDist(cluster[0], dataset.iloc[row_idx], columns)\n",
    "        min_dist_idx = distances.index(min(distances))\n",
    "        cluster_arr[min_dist_idx].append(dataset.iloc[row_idx].to_dict())\n",
    "        distances = [0 for _ in range(num_clusters)]\n",
    "\n",
    "def findCentroidsUsingKMeans(dataset, columns, num_clusters=2, min_dist=0):\n",
    "    # Initialize with random rows for centroids\n",
    "    # clusters = randomInit(dataset, num_clusters)\n",
    "    \n",
    "    # Test centroids for cross validating against WEKA implementation\n",
    "    clusters = [\n",
    "        [\n",
    "            {\n",
    "                'sepal_length': 6.1,\n",
    "                'sepal_width': 2.9,\n",
    "                'petal_length': 4.7,\n",
    "                'petal_width': 1.4\n",
    "            }\n",
    "        ],\n",
    "        [\n",
    "            {\n",
    "                'sepal_length': 6.2,\n",
    "                'sepal_width': 2.9,\n",
    "                'petal_length': 4.3,\n",
    "                'petal_width': 1.3\n",
    "            }\n",
    "        ],\n",
    "        [\n",
    "            {\n",
    "                'sepal_length': 6.9,\n",
    "                'sepal_width': 3.1,\n",
    "                'petal_length': 5.1,\n",
    "                'petal_width': 2.3\n",
    "            }\n",
    "        ]\n",
    "    ]\n",
    "\n",
    "    are_final_centroids = False\n",
    "    centroids = []\n",
    "    while not are_final_centroids:\n",
    "        fillClusters(clusters, data, columns)\n",
    "        centroids = getNewCentroids(clusters, columns)\n",
    "        are_final_centroids = areSameCentroids(clusters, centroids, columns, min_dist)\n",
    "        clusters = updateCentroids(clusters, centroids, columns)\n",
    "    return centroids, clusters\n"
   ]
  },
  {
   "cell_type": "code",
   "execution_count": 13,
   "metadata": {},
   "outputs": [
    {
     "output_type": "stream",
     "name": "stdout",
     "text": [
      "Final centroids: \nsepal_length    5.901613\nsepal_width     2.748387\npetal_length    4.393548\npetal_width     1.433871\ndtype: float64\nsepal_length    5.006\nsepal_width     3.428\npetal_length    1.462\npetal_width     0.246\ndtype: float64\nsepal_length    6.850000\nsepal_width     3.073684\npetal_length    5.742105\npetal_width     2.071053\ndtype: float64\nCluster sizes:  [62 50 38]\n"
     ]
    }
   ],
   "source": [
    "final_centroids, final_clusters = findCentroidsUsingKMeans(data, columns, 3, 0)\n",
    "print(\"Final centroids: \")\n",
    "for centroid in final_centroids:\n",
    "    print(centroid)\n",
    "\n",
    "test = []\n",
    "for idx in range(data.shape[0]):\n",
    "    distances = [0 for _ in range(len(final_centroids))]\n",
    "    for idx1, centroid in enumerate(final_centroids):\n",
    "        distances[idx1] = euclideanDist(centroid, data.iloc[idx], columns)\n",
    "    min_dist_idx = distances.index(min(distances))\n",
    "    distances = [0 for _ in range(len(final_centroids))]\n",
    "    test.append(min_dist_idx)\n",
    "\n",
    "arr = np.array(test)\n",
    "print(\"Cluster sizes: \", np.bincount(arr))"
   ]
  },
  {
   "cell_type": "code",
   "execution_count": null,
   "metadata": {},
   "outputs": [],
   "source": []
  }
 ],
 "metadata": {
  "kernelspec": {
   "name": "python392jvsc74a57bd091d727ec512ba14b5b748e72a5335c881f8007fa706df03bbb33a401c40ed58f",
   "display_name": "Python 3.9.2 64-bit"
  },
  "language_info": {
   "codemirror_mode": {
    "name": "ipython",
    "version": 3
   },
   "file_extension": ".py",
   "mimetype": "text/x-python",
   "name": "python",
   "nbconvert_exporter": "python",
   "pygments_lexer": "ipython3",
   "version": "3.9.2"
  }
 },
 "nbformat": 4,
 "nbformat_minor": 2
}