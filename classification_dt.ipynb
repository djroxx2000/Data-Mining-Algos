{
 "metadata": {
  "language_info": {
   "codemirror_mode": {
    "name": "ipython",
    "version": 3
   },
   "file_extension": ".py",
   "mimetype": "text/x-python",
   "name": "python",
   "nbconvert_exporter": "python",
   "pygments_lexer": "ipython3",
   "version": "3.7.2"
  },
  "orig_nbformat": 2,
  "kernelspec": {
   "name": "python3",
   "display_name": "Python 3",
   "language": "python"
  }
 },
 "nbformat": 4,
 "nbformat_minor": 2,
 "cells": [
  {
   "cell_type": "code",
   "execution_count": 1,
   "metadata": {},
   "outputs": [],
   "source": [
    "'''\n",
    "Author: Dhananjay Shettigar (Roll No. 8702)\n",
    "Program written for TEIT DMBI practical on classification algorithm (Decision Tree using entropy and information gain)\n",
    "'''\n",
    "\n",
    "import pandas as pd\n",
    "import numpy as np\n",
    "import math\n",
    "\n",
    "import seaborn as sns\n",
    "\n",
    "from sklearn.preprocessing import LabelEncoder\n",
    "from sklearn.model_selection import train_test_split\n",
    "from sklearn.metrics import classification_report"
   ]
  },
  {
   "cell_type": "code",
   "execution_count": 2,
   "metadata": {},
   "outputs": [
    {
     "output_type": "execute_result",
     "data": {
      "text/plain": [
       "     sepal_length  sepal_width  petal_length  petal_width    species\n",
       "0             5.1          3.5           1.4          0.2     setosa\n",
       "1             4.9          3.0           1.4          0.2     setosa\n",
       "2             4.7          3.2           1.3          0.2     setosa\n",
       "3             4.6          3.1           1.5          0.2     setosa\n",
       "4             5.0          3.6           1.4          0.2     setosa\n",
       "..            ...          ...           ...          ...        ...\n",
       "145           6.7          3.0           5.2          2.3  virginica\n",
       "146           6.3          2.5           5.0          1.9  virginica\n",
       "147           6.5          3.0           5.2          2.0  virginica\n",
       "148           6.2          3.4           5.4          2.3  virginica\n",
       "149           5.9          3.0           5.1          1.8  virginica\n",
       "\n",
       "[150 rows x 5 columns]"
      ],
      "text/html": "<div>\n<style scoped>\n    .dataframe tbody tr th:only-of-type {\n        vertical-align: middle;\n    }\n\n    .dataframe tbody tr th {\n        vertical-align: top;\n    }\n\n    .dataframe thead th {\n        text-align: right;\n    }\n</style>\n<table border=\"1\" class=\"dataframe\">\n  <thead>\n    <tr style=\"text-align: right;\">\n      <th></th>\n      <th>sepal_length</th>\n      <th>sepal_width</th>\n      <th>petal_length</th>\n      <th>petal_width</th>\n      <th>species</th>\n    </tr>\n  </thead>\n  <tbody>\n    <tr>\n      <th>0</th>\n      <td>5.1</td>\n      <td>3.5</td>\n      <td>1.4</td>\n      <td>0.2</td>\n      <td>setosa</td>\n    </tr>\n    <tr>\n      <th>1</th>\n      <td>4.9</td>\n      <td>3.0</td>\n      <td>1.4</td>\n      <td>0.2</td>\n      <td>setosa</td>\n    </tr>\n    <tr>\n      <th>2</th>\n      <td>4.7</td>\n      <td>3.2</td>\n      <td>1.3</td>\n      <td>0.2</td>\n      <td>setosa</td>\n    </tr>\n    <tr>\n      <th>3</th>\n      <td>4.6</td>\n      <td>3.1</td>\n      <td>1.5</td>\n      <td>0.2</td>\n      <td>setosa</td>\n    </tr>\n    <tr>\n      <th>4</th>\n      <td>5.0</td>\n      <td>3.6</td>\n      <td>1.4</td>\n      <td>0.2</td>\n      <td>setosa</td>\n    </tr>\n    <tr>\n      <th>...</th>\n      <td>...</td>\n      <td>...</td>\n      <td>...</td>\n      <td>...</td>\n      <td>...</td>\n    </tr>\n    <tr>\n      <th>145</th>\n      <td>6.7</td>\n      <td>3.0</td>\n      <td>5.2</td>\n      <td>2.3</td>\n      <td>virginica</td>\n    </tr>\n    <tr>\n      <th>146</th>\n      <td>6.3</td>\n      <td>2.5</td>\n      <td>5.0</td>\n      <td>1.9</td>\n      <td>virginica</td>\n    </tr>\n    <tr>\n      <th>147</th>\n      <td>6.5</td>\n      <td>3.0</td>\n      <td>5.2</td>\n      <td>2.0</td>\n      <td>virginica</td>\n    </tr>\n    <tr>\n      <th>148</th>\n      <td>6.2</td>\n      <td>3.4</td>\n      <td>5.4</td>\n      <td>2.3</td>\n      <td>virginica</td>\n    </tr>\n    <tr>\n      <th>149</th>\n      <td>5.9</td>\n      <td>3.0</td>\n      <td>5.1</td>\n      <td>1.8</td>\n      <td>virginica</td>\n    </tr>\n  </tbody>\n</table>\n<p>150 rows × 5 columns</p>\n</div>"
     },
     "metadata": {},
     "execution_count": 2
    }
   ],
   "source": [
    "# Seaborn inbuilt dataset\n",
    "df = sns.load_dataset('iris')\n",
    "df"
   ]
  },
  {
   "cell_type": "code",
   "execution_count": 3,
   "metadata": {},
   "outputs": [
    {
     "output_type": "execute_result",
     "data": {
      "text/plain": [
       "['sepal_length', 'sepal_width', 'petal_length', 'petal_width']"
      ]
     },
     "metadata": {},
     "execution_count": 3
    }
   ],
   "source": [
    "# Target column separation\n",
    "target_col = 'species'\n",
    "target = df[target_col]\n",
    "columns = [col for col in df.columns]\n",
    "columns.pop()\n",
    "columns"
   ]
  },
  {
   "cell_type": "code",
   "execution_count": 4,
   "metadata": {},
   "outputs": [],
   "source": [
    "# Convert target column from string to unique integers\n",
    "le = LabelEncoder()\n",
    "target = le.fit_transform(target)\n",
    "target\n",
    "df[target_col] = pd.Series(target)"
   ]
  },
  {
   "cell_type": "code",
   "execution_count": 5,
   "metadata": {},
   "outputs": [
    {
     "output_type": "stream",
     "name": "stdout",
     "text": [
      "(120, 5) (30, 5) (120,) (30,)\n"
     ]
    }
   ],
   "source": [
    "X_train, X_test, y_train, y_test = train_test_split(df, target, test_size = 0.2, random_state = 43)\n",
    "print(X_train.shape, X_test.shape, y_train.shape, y_test.shape)\n"
   ]
  },
  {
   "cell_type": "code",
   "execution_count": 6,
   "metadata": {},
   "outputs": [
    {
     "output_type": "execute_result",
     "data": {
      "text/plain": [
       "1.584962500721156"
      ]
     },
     "metadata": {},
     "execution_count": 6
    }
   ],
   "source": [
    "# Target entropy at start\n",
    "unique_counts = np.bincount(target)\n",
    "probabilities = unique_counts / len(target)\n",
    "\n",
    "sum_prob = 0\n",
    "for p in probabilities:\n",
    "    sum_prob += p * math.log2(p)\n",
    "root_entropy = - sum_prob\n",
    "root_entropy\n"
   ]
  },
  {
   "cell_type": "code",
   "execution_count": 7,
   "metadata": {},
   "outputs": [],
   "source": [
    "# Entropy = -(Summation of P(target_class) * log2(P(target_class) where target_class in 0 -> num_classes)\n",
    "\n",
    "def calcEntropy(col):\n",
    "    counts = np.bincount(col)\n",
    "    probabilities = counts / len(col)\n",
    "    entropy = 0\n",
    "    for p in probabilities:\n",
    "        if p > 0:\n",
    "            entropy += p * math.log2(p)\n",
    "    if entropy == 0:\n",
    "        return entropy\n",
    "    return -entropy\n",
    "\n",
    "# Split a column into 2 at mean value\n",
    "\n",
    "# Information Gain = Entropy(target) before splitting - ( num_rows in left branch/total_rows * entropy(target) in left branch rows ) - ( num_rows in right branch/total_rows * entropy(target) in right branch rows )\n",
    "\n",
    "def calcInformationGain(df, col, cur_entropy):\n",
    "    mid = df[col].mean()\n",
    "    left = df[df[col] <= mid]\n",
    "    right = df[df[col] > mid]\n",
    "    left_prob = left.shape[0] / df.shape[0]\n",
    "    right_prob = right.shape[0] / df.shape[0]\n",
    "    left_entropy = calcEntropy(left['species'])\n",
    "    right_entropy = calcEntropy(right['species'])\n",
    "    return (cur_entropy - (left_prob * left_entropy + right_prob * right_entropy)), mid, left, right\n",
    "\n"
   ]
  },
  {
   "cell_type": "code",
   "execution_count": 8,
   "metadata": {
    "tags": []
   },
   "outputs": [
    {
     "output_type": "execute_result",
     "data": {
      "text/plain": [
       "[{'left': 1, 'right': 4, 'col': 'petal_length', 'mid': 3.84, 'class': 1},\n",
       " {'left': 2, 'right': 3, 'col': 'petal_length', 'mid': 1.75, 'class': 0},\n",
       " {'left': None, 'right': None, 'col': 'petal_width', 'mid': 0.25, 'class': 0},\n",
       " {'left': None, 'right': None, 'col': 'petal_width', 'mid': 0.89, 'class': 1},\n",
       " {'left': 5, 'right': 18, 'col': 'petal_width', 'mid': 1.73, 'class': 2},\n",
       " {'left': 6, 'right': 7, 'col': 'petal_length', 'mid': 4.49, 'class': 1},\n",
       " {'left': None, 'right': None, 'col': 'petal_width', 'mid': 1.28, 'class': 1},\n",
       " {'left': 8, 'right': 13, 'col': 'petal_length', 'mid': 4.75, 'class': 1},\n",
       " {'left': 9, 'right': 12, 'col': 'petal_length', 'mid': 4.59, 'class': 1},\n",
       " {'left': 10, 'right': 11, 'col': 'petal_width', 'mid': 1.51, 'class': 1},\n",
       " {'left': None, 'right': None, 'col': 'petal_width', 'mid': 1.46, 'class': 1},\n",
       " {'left': None, 'right': None, 'col': 'petal_width', 'mid': 1.65, 'class': 2},\n",
       " {'left': None, 'right': None, 'col': 'petal_width', 'mid': 1.41, 'class': 1},\n",
       " {'left': 14, 'right': 17, 'col': 'petal_length', 'mid': 5.11, 'class': 1},\n",
       " {'left': 15, 'right': 16, 'col': 'petal_width', 'mid': 1.55, 'class': 1},\n",
       " {'left': None, 'right': None, 'col': 'petal_length', 'mid': 4.97, 'class': 2},\n",
       " {'left': None, 'right': None, 'col': 'petal_width', 'mid': 1.65, 'class': 1},\n",
       " {'left': None, 'right': None, 'col': 'petal_width', 'mid': 1.6, 'class': 2},\n",
       " {'left': 19, 'right': 20, 'col': 'sepal_width', 'mid': 3.05, 'class': 2},\n",
       " {'left': None, 'right': None, 'col': 'petal_width', 'mid': 1.97, 'class': 2},\n",
       " {'left': 21, 'right': 24, 'col': 'petal_width', 'mid': 2.18, 'class': 2},\n",
       " {'left': 22, 'right': 23, 'col': 'petal_width', 'mid': 1.94, 'class': 2},\n",
       " {'left': None, 'right': None, 'col': 'petal_length', 'mid': 5.43, 'class': 2},\n",
       " {'left': None, 'right': None, 'col': 'petal_width', 'mid': 2.05, 'class': 2},\n",
       " {'left': None, 'right': None, 'col': 'petal_width', 'mid': 2.35, 'class': 2}]"
      ]
     },
     "metadata": {},
     "execution_count": 8
    }
   ],
   "source": [
    "MAX_NODES = 100\n",
    "num_nodes = 1\n",
    "dtree = []\n",
    "\n",
    "# Recursively build tree by splitting dataframe into 2 on each call\n",
    "def buildDecisionTree(df, parent_index, branch):\n",
    "    global num_nodes\n",
    "    entropy = calcEntropy(df[target_col])\n",
    "    highest_gain_col = {'gain': 0, 'col': None, 'mid': None, 'left': None, 'right': None}\n",
    "    for col in columns:\n",
    "        gain, mid, left, right = calcInformationGain(df, col, entropy)\n",
    "        if gain >= highest_gain_col['gain']:\n",
    "            highest_gain_col['gain'] = gain\n",
    "            highest_gain_col['col'] = col\n",
    "            highest_gain_col['mid'] = mid\n",
    "            highest_gain_col['left'] = left\n",
    "            highest_gain_col['right'] = right\n",
    "    \n",
    "    node = {}\n",
    "    node['left'] = None\n",
    "    node['right'] = None\n",
    "    node['col'] = highest_gain_col['col']\n",
    "    node['mid'] = round(highest_gain_col['mid'], 2)\n",
    "    node['class'] = df[target_col].value_counts().idxmax()\n",
    "    dtree.append(node)\n",
    "    num_nodes += 1\n",
    "\n",
    "    if parent_index != -1:\n",
    "        dtree[parent_index][branch] = len(dtree) - 1\n",
    "\n",
    "    if highest_gain_col['gain'] >= entropy:\n",
    "        return\n",
    "    else:\n",
    "        new_index = len(dtree) - 1\n",
    "        buildDecisionTree(highest_gain_col['left'], new_index, 'left')\n",
    "        try:\n",
    "            temp = highest_gain_col['right'].shape[0]\n",
    "            buildDecisionTree(highest_gain_col['right'], new_index, 'right')\n",
    "        except:\n",
    "            print(\"Error\")\n",
    "            pass\n",
    "        \n",
    "\n",
    "buildDecisionTree(X_train, -1, None)\n",
    "dtree\n"
   ]
  },
  {
   "cell_type": "code",
   "execution_count": 9,
   "metadata": {},
   "outputs": [
    {
     "output_type": "stream",
     "name": "stdout",
     "text": [
      "[0, 0, 2, 1, 2, 0, 2, 1, 1, 1, 0, 2, 2, 0, 1, 1, 0, 0, 2, 2, 0, 0, 0, 2, 2, 2, 0, 1, 0, 0]\n"
     ]
    }
   ],
   "source": [
    "y_pred = []\n",
    "for ind in X_test.index:\n",
    "    index = 0\n",
    "    while True:\n",
    "        col = dtree[index]['col']\n",
    "        mid = dtree[index]['mid']\n",
    "        if X_test[col][ind] <= mid:\n",
    "            if dtree[index]['left'] == None:\n",
    "                y_pred.append(dtree[index]['class'])\n",
    "                break\n",
    "            else:\n",
    "                index = dtree[index]['left']\n",
    "        else:\n",
    "            if dtree[index]['right'] == None:\n",
    "                y_pred.append(dtree[index]['class'])\n",
    "                break\n",
    "            else:\n",
    "                index = dtree[index]['right']\n",
    "print(y_pred)\n"
   ]
  },
  {
   "cell_type": "code",
   "execution_count": 10,
   "metadata": {},
   "outputs": [
    {
     "output_type": "stream",
     "name": "stdout",
     "text": [
      "Classification report - \n               precision    recall  f1-score   support\n\n           0       1.00      1.00      1.00        13\n           1       1.00      0.88      0.93         8\n           2       0.90      1.00      0.95         9\n\n    accuracy                           0.97        30\n   macro avg       0.97      0.96      0.96        30\nweighted avg       0.97      0.97      0.97        30\n\n"
     ]
    }
   ],
   "source": [
    "\n",
    "print(\"Classification report - \\n\", classification_report(y_test,y_pred))\n"
   ]
  },
  {
   "cell_type": "code",
   "execution_count": 11,
   "metadata": {},
   "outputs": [
    {
     "output_type": "execute_result",
     "data": {
      "text/plain": [
       "     sepal_length  sepal_width  petal_length  petal_width  species\n",
       "96            5.7          2.9           4.2          1.3        1\n",
       "19            5.1          3.8           1.5          0.3        0\n",
       "93            5.0          2.3           3.3          1.0        1\n",
       "98            5.1          2.5           3.0          1.1        1\n",
       "108           6.7          2.5           5.8          1.8        2\n",
       "..            ...          ...           ...          ...      ...\n",
       "58            6.6          2.9           4.6          1.3        1\n",
       "21            5.1          3.7           1.5          0.4        0\n",
       "49            5.0          3.3           1.4          0.2        0\n",
       "64            5.6          2.9           3.6          1.3        1\n",
       "68            6.2          2.2           4.5          1.5        1\n",
       "\n",
       "[120 rows x 5 columns]"
      ],
      "text/html": "<div>\n<style scoped>\n    .dataframe tbody tr th:only-of-type {\n        vertical-align: middle;\n    }\n\n    .dataframe tbody tr th {\n        vertical-align: top;\n    }\n\n    .dataframe thead th {\n        text-align: right;\n    }\n</style>\n<table border=\"1\" class=\"dataframe\">\n  <thead>\n    <tr style=\"text-align: right;\">\n      <th></th>\n      <th>sepal_length</th>\n      <th>sepal_width</th>\n      <th>petal_length</th>\n      <th>petal_width</th>\n      <th>species</th>\n    </tr>\n  </thead>\n  <tbody>\n    <tr>\n      <th>96</th>\n      <td>5.7</td>\n      <td>2.9</td>\n      <td>4.2</td>\n      <td>1.3</td>\n      <td>1</td>\n    </tr>\n    <tr>\n      <th>19</th>\n      <td>5.1</td>\n      <td>3.8</td>\n      <td>1.5</td>\n      <td>0.3</td>\n      <td>0</td>\n    </tr>\n    <tr>\n      <th>93</th>\n      <td>5.0</td>\n      <td>2.3</td>\n      <td>3.3</td>\n      <td>1.0</td>\n      <td>1</td>\n    </tr>\n    <tr>\n      <th>98</th>\n      <td>5.1</td>\n      <td>2.5</td>\n      <td>3.0</td>\n      <td>1.1</td>\n      <td>1</td>\n    </tr>\n    <tr>\n      <th>108</th>\n      <td>6.7</td>\n      <td>2.5</td>\n      <td>5.8</td>\n      <td>1.8</td>\n      <td>2</td>\n    </tr>\n    <tr>\n      <th>...</th>\n      <td>...</td>\n      <td>...</td>\n      <td>...</td>\n      <td>...</td>\n      <td>...</td>\n    </tr>\n    <tr>\n      <th>58</th>\n      <td>6.6</td>\n      <td>2.9</td>\n      <td>4.6</td>\n      <td>1.3</td>\n      <td>1</td>\n    </tr>\n    <tr>\n      <th>21</th>\n      <td>5.1</td>\n      <td>3.7</td>\n      <td>1.5</td>\n      <td>0.4</td>\n      <td>0</td>\n    </tr>\n    <tr>\n      <th>49</th>\n      <td>5.0</td>\n      <td>3.3</td>\n      <td>1.4</td>\n      <td>0.2</td>\n      <td>0</td>\n    </tr>\n    <tr>\n      <th>64</th>\n      <td>5.6</td>\n      <td>2.9</td>\n      <td>3.6</td>\n      <td>1.3</td>\n      <td>1</td>\n    </tr>\n    <tr>\n      <th>68</th>\n      <td>6.2</td>\n      <td>2.2</td>\n      <td>4.5</td>\n      <td>1.5</td>\n      <td>1</td>\n    </tr>\n  </tbody>\n</table>\n<p>120 rows × 5 columns</p>\n</div>"
     },
     "metadata": {},
     "execution_count": 11
    }
   ],
   "source": [
    "X_train"
   ]
  },
  {
   "cell_type": "code",
   "execution_count": null,
   "metadata": {},
   "outputs": [],
   "source": []
  }
 ]
}